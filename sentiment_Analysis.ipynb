{
  "nbformat": 4,
  "nbformat_minor": 0,
  "metadata": {
    "colab": {
      "name": "sentiment Analysis",
      "provenance": []
    },
    "kernelspec": {
      "name": "python3",
      "display_name": "Python 3"
    }
  },
  "cells": [
    {
      "cell_type": "code",
      "metadata": {
        "id": "rfBpa7Sr7vsG"
      },
      "source": [
        "# Sentiment analysis Program of Twitter, Linkdin, Facebook Profile."
      ],
      "execution_count": null,
      "outputs": []
    },
    {
      "cell_type": "code",
      "metadata": {
        "id": "4678J9Ye8iWu"
      },
      "source": [
        "#importig librabry\r\n",
        "import tweepy\r\n",
        "from textblob import TextBlob\r\n",
        "import pandas as pd\r\n",
        "import numpy as np\r\n",
        "import re \r\n",
        "import plotly.express as px\r\n",
        "import matplotlib.pyplot as plt\r\n",
        "plt.style.use('fivethirtyeight')"
      ],
      "execution_count": 1,
      "outputs": []
    },
    {
      "cell_type": "code",
      "metadata": {
        "id": "09KEXK8Pgdli"
      },
      "source": [
        "#loading Data\r\n",
        "from google.colab import files\r\n",
        "uploaded= files.upload()"
      ],
      "execution_count": null,
      "outputs": []
    },
    {
      "cell_type": "code",
      "metadata": {
        "id": "zPZYLsIRifQW"
      },
      "source": [
        "#get the data\r\n",
        "log = pd.read_csv('login.csv')"
      ],
      "execution_count": null,
      "outputs": []
    },
    {
      "cell_type": "code",
      "metadata": {
        "id": "Nz8cb4MAjYhn"
      },
      "source": [
        "#Twitter Api Credentials\r\n",
        "consumer_key = log['key'][0]\r\n",
        "consumer_secret = log['key'][1]\r\n",
        "access_token =log[key][2]\r\n",
        "access_token_secret = log[key][3]"
      ],
      "execution_count": null,
      "outputs": []
    },
    {
      "cell_type": "code",
      "metadata": {
        "id": "ePHUuxMg9LTl"
      },
      "source": [
        "#creating the aythentication object\r\n",
        "authenticate = tweepy.OAuthHandler(consumer_key, consumer_secret)\r\n",
        "\r\n",
        "#set access token & secret\r\n",
        "authenticate.set_access_token(access_token, access_token_secret)\r\n",
        "\r\n",
        "#Create the Api object while passing in the authentication Information\r\n",
        "api = tweepy.API(authenticate,wait_on_rate_limit=True)"
      ],
      "execution_count": null,
      "outputs": []
    },
    {
      "cell_type": "code",
      "metadata": {
        "id": "NB-g4LnUlckr"
      },
      "source": [
        "#Pulling 100 Tweets from the selected profile name\r\n",
        "i=1\r\n",
        "post = api.user_timeline(screen_name ='BillGates',count=100,lang='en',tweet_mode='extended')\r\n",
        "\r\n",
        "for tweet in Post[0:5]:\r\n",
        "    print( str(i)+') '+ tweet.full_text + '\\n')\r\n",
        "    i++"
      ],
      "execution_count": null,
      "outputs": []
    },
    {
      "cell_type": "code",
      "metadata": {
        "id": "T8fKSVy2qCWw"
      },
      "source": [
        "#creating a DataFrame\r\n",
        "df=pd.DataFrame([tweet.full_text for tweet in post], columns=['Tweets'])\r\n",
        "\r\n",
        "#show first 5 Text\r\n",
        "df.head()"
      ],
      "execution_count": null,
      "outputs": []
    },
    {
      "cell_type": "code",
      "metadata": {
        "id": "jReHDve5qvCx"
      },
      "source": [
        "#Cleaning the Text\r\n",
        "\r\n",
        "#creating a Function to clean the tweets\r\n",
        "def cleanText(text):\r\n",
        "  text = re.sub(r'@[A-Za-z0-9]+','',text) #removing the @mentions\r\n",
        "  text = re.sub(r'#','',text) #removing the \"#\" symbloe\r\n",
        "  text = re.sub(r'RT[\\s]+','',text) #removing Retweet\r\n",
        "  text = re.sub(r'https?:\\/\\/\\S+','',text) #removing the Hyperlinks\r\n",
        "\r\n",
        "  return text"
      ],
      "execution_count": null,
      "outputs": []
    },
    {
      "cell_type": "code",
      "metadata": {
        "id": "fm93huPWuIGt"
      },
      "source": [
        "\r\n",
        "#cleaning the text\r\n",
        "df['Tweets']= df['Tweets'].apply(cleanText)\r\n",
        "\r\n",
        "#showing the clean tweet\r\n",
        "df"
      ],
      "execution_count": null,
      "outputs": []
    },
    {
      "cell_type": "code",
      "metadata": {
        "id": "7fU48N0nqeJf"
      },
      "source": [
        "#Creating a function to get the subjectivity \r\n",
        "def getSubjectivity(text):\r\n",
        "  return TextBlob(text).sentiment.subjectivity\r\n",
        "\r\n",
        "#Creating a function to get the Polarity\r\n",
        "def getPolarity(text):\r\n",
        "  return TextBlob(text).sentiment.polarity\r\n",
        "\r\n",
        "#Create two new Coloumn Subjectivity & polarity\r\n",
        "df['Subjectivity']=df['Tweets'].apply(getSubjectivity)\r\n",
        "df['Polarity']=df['Tweets'].apply(getPolarity)\r\n",
        "\r\n",
        "#Showing Data with Subjectivity & polarity\r\n",
        "df"
      ],
      "execution_count": null,
      "outputs": []
    },
    {
      "cell_type": "code",
      "metadata": {
        "id": "UR7GNSvUwqeJ"
      },
      "source": [
        "#Creating a Function to Compute Negative(-1), Neutral(0), Positive(+1) Analysis Score\r\n",
        "\r\n",
        "def getAnalysisPolarityScore(score):\r\n",
        "  if score<0:\r\n",
        "    return 'Negative'\r\n",
        "  elif score==0:\r\n",
        "    return 'Neutral'\r\n",
        "  else:\r\n",
        "    return 'Positive'\r\n",
        "\r\n",
        "\r\n",
        "#Creating a Function to compute Fact(0),Opinion(1)\r\n",
        "def getAnalysisSubjectivityScore(score):\r\n",
        "  if score <0.5:\r\n",
        "    return 'Fact'\r\n",
        "  else:\r\n",
        "    return 'Opinion'"
      ],
      "execution_count": null,
      "outputs": []
    },
    {
      "cell_type": "code",
      "metadata": {
        "id": "1_gWzH-Cxk-m"
      },
      "source": [
        "\r\n",
        "df['PolarityAnalysis'] = df['Polarity'].apply(getAnalysisPolarityScore)\r\n",
        "df['SubjectivityAnalysis']=df['Subjectivity'].apply(getAnalysisSubjectivityScore)\r\n",
        "\r\n",
        "#showing data\r\n",
        "df"
      ],
      "execution_count": null,
      "outputs": []
    },
    {
      "cell_type": "code",
      "metadata": {
        "id": "JTjHD1lYdfxJ"
      },
      "source": [
        "#Printing the Percentage of Positive Tweet with Facts:\r\n",
        "\r\n",
        "pftweets = df[(df.PolarityAnalysis =='Positive') & (df.SubjectivityAnalysis =='Fact')]\r\n",
        "pftweets =pftweets['Tweets']\r\n",
        "\r\n",
        "potweets = df[(df.PolarityAnalysis =='Positive') & (df.SubjectivityAnalysis =='Opinion')]\r\n",
        "potweets =potweets['Tweets']\r\n",
        "\r\n",
        "nftweets = df[(df.PolarityAnalysis =='Negative') & (df.SubjectivityAnalysis =='Fact')]\r\n",
        "nftweets =nftweets['Tweets']\r\n",
        "\r\n",
        "notweets = df[(df.PolarityAnalysis =='Negative') & (df.SubjectivityAnalysis =='Opinion')]\r\n",
        "notweets =notweets['Tweets']\r\n",
        "\r\n",
        "nuftweets = df[(df.PolarityAnalysis =='Neutral') & (df.SubjectivityAnalysis =='Fact')]\r\n",
        "nuftweets =nuftweets['Tweets']\r\n",
        "\r\n",
        "nuotweets = df[(df.PolarityAnalysis =='Neutral') & (df.SubjectivityAnalysis =='Opinion')]\r\n",
        "nuotweets =nuotweets['Tweets']"
      ],
      "execution_count": null,
      "outputs": []
    },
    {
      "cell_type": "code",
      "metadata": {
        "id": "T0iVZ5q13ZN_"
      },
      "source": [
        "# calculating % of Diffrent kind of Tweets:\r\n",
        "\r\n",
        "pf = round ((pftweets.shape[0]/df.shape[0])*100,2)\r\n",
        "po = round ((potweets.shape[0]/df.shape[0])*100,2)\r\n",
        "nf = round ((nftweets.shape[0]/df.shape[0])*100,2)\r\n",
        "no = round ((notweets.shape[0]/df.shape[0])*100,2)\r\n",
        "nuf = round ((nuftweets.shape[0]/df.shape[0])*100,2)\r\n",
        "nuo = round ((nuoweets.shape[0]/df.shape[0])*100,2)"
      ],
      "execution_count": null,
      "outputs": []
    },
    {
      "cell_type": "code",
      "metadata": {
        "id": "cAH99NOG5IRK"
      },
      "source": [
        "#plotting & vusualising the Personality in two differnt Plots\r\n",
        "\r\n",
        "# Plotting Scatter Plot:\r\n",
        "plt.figure(figsize=(10,10)) \r\n",
        "for i in range(0, df.shape[0]):\r\n",
        "  plt.scatter(df[\"Polarity\"][i], df[\"Subjectivity\"][i], color='Blue') # plt.scatter(x,y,color)   \r\n",
        "plt.title('Sentiment Analysis') \r\n",
        "plt.xlabel('Polarity') \r\n",
        "plt.ylabel('Subjectivity') \r\n",
        "plt.show()\r\n",
        "\r\n",
        "\r\n",
        "# Plotting Radar Plot:\r\n",
        "\r\n",
        "df2 = pd.DataFrame(dict(r =[nf, nuf , pf, po, nuo, no], theta =['Negative Facts', 'Neutral Facts', 'Positive Facts', 'Positive Opinion', 'Neutral Opinion', 'Negative Opinion']))\r\n",
        "fig = px.line_polar(df2, r='r',theta='theta',line_close=True)\r\n",
        "fig.update_traces(fill='toself')\r\n",
        "fig.show()"
      ],
      "execution_count": null,
      "outputs": []
    }
  ]
}